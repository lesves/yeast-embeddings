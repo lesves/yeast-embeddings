{
 "cells": [
  {
   "cell_type": "code",
   "execution_count": 2,
   "metadata": {},
   "outputs": [],
   "source": [
    "import pandas as pd\n",
    "import numpy as np"
   ]
  },
  {
   "cell_type": "markdown",
   "metadata": {},
   "source": [
    "## Costanzo Data\n",
    "\n",
    "It is a matrix of gene to gene interactions that is split between three files, ExE, ExN, NxN,\n",
    "where E stands for essential genes and N for nonessential genes.\n",
    "\n",
    "In this notebook we load those matrices and combine them into a single big matrix."
   ]
  },
  {
   "cell_type": "code",
   "execution_count": null,
   "metadata": {},
   "outputs": [],
   "source": [
    "# Gene-gene interactions, they need to be combined, cause separatedly for essential and non-essential genes\n",
    "GxG_data_Costanzo_ExE = pd.read_csv('data/SGA_ExE_clustered.cdt', sep = '\\t', dtype = 'str')\n",
    "GxG_data_Costanzo_ExN = pd.read_csv('data/SGA_ExN_clustered.cdt', sep = '\\t', dtype = 'str')\n",
    "GxG_data_Costanzo_NxN = pd.read_csv('data/SGA_NxN_clustered.cdt', sep = '\\t', dtype = 'str')"
   ]
  },
  {
   "cell_type": "markdown",
   "metadata": {},
   "source": [
    "First, we extract only the rows and columns corresponding to the genes and we change them to use ORF gene ids.\n",
    "\n",
    "The matrices are also in a special format, CDT, where the first few rows and first few columns correspond to some different values (GWEIGHT etc.). We remove those."
   ]
  },
  {
   "cell_type": "code",
   "execution_count": 4,
   "metadata": {},
   "outputs": [],
   "source": [
    "def cdt_to_mat(cdt):\n",
    "    mat = cdt.iloc[5:, 6:].apply(pd.to_numeric, errors=\"coerce\")\n",
    "    mat.columns = cdt.iloc[1, 6:]\n",
    "    return mat.set_index(cdt[\"ORF\"].iloc[5:])\n",
    "\n",
    "ExE = cdt_to_mat(GxG_data_Costanzo_ExE)\n",
    "ExN = cdt_to_mat(GxG_data_Costanzo_ExN)\n",
    "NxN = cdt_to_mat(GxG_data_Costanzo_NxN)"
   ]
  },
  {
   "cell_type": "markdown",
   "metadata": {},
   "source": [
    "Some genes are repeated, as we see in the next cell. This corresponds to multiple different strains of the yeast being present in the dataset."
   ]
  },
  {
   "cell_type": "code",
   "execution_count": 5,
   "metadata": {},
   "outputs": [
    {
     "data": {
      "text/html": [
       "<div>\n",
       "<style scoped>\n",
       "    .dataframe tbody tr th:only-of-type {\n",
       "        vertical-align: middle;\n",
       "    }\n",
       "\n",
       "    .dataframe tbody tr th {\n",
       "        vertical-align: top;\n",
       "    }\n",
       "\n",
       "    .dataframe thead th {\n",
       "        text-align: right;\n",
       "    }\n",
       "</style>\n",
       "<table border=\"1\" class=\"dataframe\">\n",
       "  <thead>\n",
       "    <tr style=\"text-align: right;\">\n",
       "      <th>1</th>\n",
       "      <th>YDR478W</th>\n",
       "      <th>YHR040W</th>\n",
       "      <th>YIL104C</th>\n",
       "      <th>YDR064W</th>\n",
       "      <th>YDL208W</th>\n",
       "      <th>YMR290C</th>\n",
       "      <th>YLL011W</th>\n",
       "      <th>YLR186W</th>\n",
       "      <th>YMR229C</th>\n",
       "      <th>YDR339C</th>\n",
       "      <th>...</th>\n",
       "      <th>YBL034C</th>\n",
       "      <th>YBR055C</th>\n",
       "      <th>YLR105C</th>\n",
       "      <th>YDL103C</th>\n",
       "      <th>YDL103C</th>\n",
       "      <th>YKL104C</th>\n",
       "      <th>YKL024C</th>\n",
       "      <th>YOR074C</th>\n",
       "      <th>YDR081C</th>\n",
       "      <th>YOR204W</th>\n",
       "    </tr>\n",
       "    <tr>\n",
       "      <th>ORF</th>\n",
       "      <th></th>\n",
       "      <th></th>\n",
       "      <th></th>\n",
       "      <th></th>\n",
       "      <th></th>\n",
       "      <th></th>\n",
       "      <th></th>\n",
       "      <th></th>\n",
       "      <th></th>\n",
       "      <th></th>\n",
       "      <th></th>\n",
       "      <th></th>\n",
       "      <th></th>\n",
       "      <th></th>\n",
       "      <th></th>\n",
       "      <th></th>\n",
       "      <th></th>\n",
       "      <th></th>\n",
       "      <th></th>\n",
       "      <th></th>\n",
       "      <th></th>\n",
       "    </tr>\n",
       "  </thead>\n",
       "  <tbody>\n",
       "    <tr>\n",
       "      <th>YPR016C</th>\n",
       "      <td>0.065</td>\n",
       "      <td>0.013</td>\n",
       "      <td>-0.009</td>\n",
       "      <td>0.038</td>\n",
       "      <td>0.068</td>\n",
       "      <td>-0.233</td>\n",
       "      <td>-0.015</td>\n",
       "      <td>0.059</td>\n",
       "      <td>0.052</td>\n",
       "      <td>0.047</td>\n",
       "      <td>...</td>\n",
       "      <td>-0.028</td>\n",
       "      <td>-0.049</td>\n",
       "      <td>0.029</td>\n",
       "      <td>0.008</td>\n",
       "      <td>0.031</td>\n",
       "      <td>0.033</td>\n",
       "      <td>-0.093</td>\n",
       "      <td>-0.072</td>\n",
       "      <td>-0.003</td>\n",
       "      <td>-0.033</td>\n",
       "    </tr>\n",
       "    <tr>\n",
       "      <th>YPR016C</th>\n",
       "      <td>0.096</td>\n",
       "      <td>0.070</td>\n",
       "      <td>0.010</td>\n",
       "      <td>0.083</td>\n",
       "      <td>0.059</td>\n",
       "      <td>-0.245</td>\n",
       "      <td>-0.038</td>\n",
       "      <td>0.026</td>\n",
       "      <td>0.108</td>\n",
       "      <td>0.079</td>\n",
       "      <td>...</td>\n",
       "      <td>0.029</td>\n",
       "      <td>-0.014</td>\n",
       "      <td>0.026</td>\n",
       "      <td>-0.016</td>\n",
       "      <td>0.128</td>\n",
       "      <td>-0.036</td>\n",
       "      <td>-0.160</td>\n",
       "      <td>0.002</td>\n",
       "      <td>-0.024</td>\n",
       "      <td>-0.017</td>\n",
       "    </tr>\n",
       "    <tr>\n",
       "      <th>YBR109C</th>\n",
       "      <td>0.025</td>\n",
       "      <td>-0.005</td>\n",
       "      <td>0.062</td>\n",
       "      <td>0.020</td>\n",
       "      <td>0.044</td>\n",
       "      <td>-0.172</td>\n",
       "      <td>-0.077</td>\n",
       "      <td>0.024</td>\n",
       "      <td>0.107</td>\n",
       "      <td>0.128</td>\n",
       "      <td>...</td>\n",
       "      <td>NaN</td>\n",
       "      <td>NaN</td>\n",
       "      <td>0.040</td>\n",
       "      <td>0.044</td>\n",
       "      <td>0.045</td>\n",
       "      <td>0.107</td>\n",
       "      <td>-0.053</td>\n",
       "      <td>0.038</td>\n",
       "      <td>0.011</td>\n",
       "      <td>-0.010</td>\n",
       "    </tr>\n",
       "    <tr>\n",
       "      <th>YBR109C</th>\n",
       "      <td>0.053</td>\n",
       "      <td>0.005</td>\n",
       "      <td>0.143</td>\n",
       "      <td>0.069</td>\n",
       "      <td>-0.025</td>\n",
       "      <td>-0.379</td>\n",
       "      <td>-0.211</td>\n",
       "      <td>0.057</td>\n",
       "      <td>-0.127</td>\n",
       "      <td>0.076</td>\n",
       "      <td>...</td>\n",
       "      <td>NaN</td>\n",
       "      <td>NaN</td>\n",
       "      <td>0.082</td>\n",
       "      <td>0.136</td>\n",
       "      <td>0.082</td>\n",
       "      <td>0.117</td>\n",
       "      <td>-0.257</td>\n",
       "      <td>0.082</td>\n",
       "      <td>-0.138</td>\n",
       "      <td>0.029</td>\n",
       "    </tr>\n",
       "    <tr>\n",
       "      <th>YDR280W</th>\n",
       "      <td>-0.074</td>\n",
       "      <td>0.032</td>\n",
       "      <td>-0.044</td>\n",
       "      <td>NaN</td>\n",
       "      <td>0.013</td>\n",
       "      <td>0.036</td>\n",
       "      <td>-0.073</td>\n",
       "      <td>-0.058</td>\n",
       "      <td>-0.005</td>\n",
       "      <td>NaN</td>\n",
       "      <td>...</td>\n",
       "      <td>-0.072</td>\n",
       "      <td>-0.014</td>\n",
       "      <td>-0.003</td>\n",
       "      <td>0.029</td>\n",
       "      <td>0.025</td>\n",
       "      <td>0.008</td>\n",
       "      <td>0.041</td>\n",
       "      <td>0.104</td>\n",
       "      <td>NaN</td>\n",
       "      <td>-0.033</td>\n",
       "    </tr>\n",
       "  </tbody>\n",
       "</table>\n",
       "<p>5 rows × 786 columns</p>\n",
       "</div>"
      ],
      "text/plain": [
       "1        YDR478W  YHR040W  YIL104C  YDR064W  YDL208W  YMR290C  YLL011W  \\\n",
       "ORF                                                                      \n",
       "YPR016C    0.065    0.013   -0.009    0.038    0.068   -0.233   -0.015   \n",
       "YPR016C    0.096    0.070    0.010    0.083    0.059   -0.245   -0.038   \n",
       "YBR109C    0.025   -0.005    0.062    0.020    0.044   -0.172   -0.077   \n",
       "YBR109C    0.053    0.005    0.143    0.069   -0.025   -0.379   -0.211   \n",
       "YDR280W   -0.074    0.032   -0.044      NaN    0.013    0.036   -0.073   \n",
       "\n",
       "1        YLR186W  YMR229C  YDR339C  ...  YBL034C  YBR055C  YLR105C  YDL103C  \\\n",
       "ORF                                 ...                                       \n",
       "YPR016C    0.059    0.052    0.047  ...   -0.028   -0.049    0.029    0.008   \n",
       "YPR016C    0.026    0.108    0.079  ...    0.029   -0.014    0.026   -0.016   \n",
       "YBR109C    0.024    0.107    0.128  ...      NaN      NaN    0.040    0.044   \n",
       "YBR109C    0.057   -0.127    0.076  ...      NaN      NaN    0.082    0.136   \n",
       "YDR280W   -0.058   -0.005      NaN  ...   -0.072   -0.014   -0.003    0.029   \n",
       "\n",
       "1        YDL103C  YKL104C  YKL024C  YOR074C  YDR081C  YOR204W  \n",
       "ORF                                                            \n",
       "YPR016C    0.031    0.033   -0.093   -0.072   -0.003   -0.033  \n",
       "YPR016C    0.128   -0.036   -0.160    0.002   -0.024   -0.017  \n",
       "YBR109C    0.045    0.107   -0.053    0.038    0.011   -0.010  \n",
       "YBR109C    0.082    0.117   -0.257    0.082   -0.138    0.029  \n",
       "YDR280W    0.025    0.008    0.041    0.104      NaN   -0.033  \n",
       "\n",
       "[5 rows x 786 columns]"
      ]
     },
     "execution_count": 5,
     "metadata": {},
     "output_type": "execute_result"
    }
   ],
   "source": [
    "ExE.head()"
   ]
  },
  {
   "cell_type": "code",
   "execution_count": 6,
   "metadata": {},
   "outputs": [],
   "source": [
    "all_genes = sorted(set(ExE.index).union(ExE.columns).union(ExN.index).union(ExN.columns).union(NxN.index).union(NxN.columns))\n",
    "ExE_ = ExE.groupby(by=ExE.index).mean().T.groupby(by=ExE.columns).mean().T.reindex(index=all_genes, columns=all_genes)\n",
    "ExN_ = ExN.groupby(by=ExN.index).mean().T.groupby(by=ExN.columns).mean().T.reindex(index=all_genes, columns=all_genes)\n",
    "NxN_ = NxN.groupby(by=NxN.index).mean().T.groupby(by=NxN.columns).mean().T.reindex(index=all_genes, columns=all_genes)"
   ]
  },
  {
   "cell_type": "code",
   "execution_count": 7,
   "metadata": {},
   "outputs": [],
   "source": [
    "GxG = ExE_.fillna(0) + ExN_.fillna(0) + NxN_.fillna(0)\n",
    "GxG[(ExE_.isna() & ExN_.isna() & NxN_.isna())] = np.nan"
   ]
  },
  {
   "cell_type": "code",
   "execution_count": 8,
   "metadata": {},
   "outputs": [
    {
     "name": "stdout",
     "output_type": "stream",
     "text": [
      "48.80% NaN values\n"
     ]
    }
   ],
   "source": [
    "print(f\"{GxG.isnull().sum().sum() / GxG.shape[0]**2 * 100:.2f}% NaN values\")"
   ]
  },
  {
   "cell_type": "markdown",
   "metadata": {},
   "source": [
    "We will drop the columns that have more than 15% of NaNs and also the corresponding rows."
   ]
  },
  {
   "cell_type": "markdown",
   "metadata": {},
   "source": [
    "## Result\n",
    "There are three ways to use the Costanzo data. \n",
    "\n",
    "1. Either we use it for evaluation and then we want it as a gene by gene matrix. \n",
    "2. Or we use it as training data and then we want it as some features for every gene.\n",
    "3. Take just the essential/nonessential gene labeling and use it for classification to evaluate our embeddings"
   ]
  },
  {
   "cell_type": "code",
   "execution_count": 9,
   "metadata": {},
   "outputs": [],
   "source": [
    "# Option 1\n",
    "GxG.to_parquet(\"data/Costanzo_GxG.parquet\")"
   ]
  },
  {
   "cell_type": "code",
   "execution_count": 10,
   "metadata": {},
   "outputs": [],
   "source": [
    "# Option 2\n",
    "threshold = 0.35\n",
    "Costanzo_features = GxG.loc[:, GxG.columns[GxG.isnull().mean(axis=0) < threshold]]\n",
    "Costanzo_features = Costanzo_features.fillna(Costanzo_features.mean())\n",
    "Costanzo_features.to_parquet(\"data/Costanzo_features.parquet\")"
   ]
  },
  {
   "cell_type": "code",
   "execution_count": 43,
   "metadata": {},
   "outputs": [
    {
     "name": "stdout",
     "output_type": "stream",
     "text": [
      "Both essential and nonessential:  {'YLR268W'}\n"
     ]
    }
   ],
   "source": [
    "# Option 3\n",
    "essential = set(ExE.index)\n",
    "nonessential = set(NxN.index)\n",
    "# For some reason, there is a gene that is both essential and nonessential :D\n",
    "both = essential.intersection(nonessential)\n",
    "print(\"Both essential and nonessential: \", both)\n",
    "# Let's remove it from both sets\n",
    "essential -= both\n",
    "nonessential -= both\n",
    "\n",
    "labels = pd.DataFrame(index=list(sorted(essential.union(nonessential))))\n",
    "labels.index.name = \"gene_id\"\n",
    "labels[\"essential\"] = 0\n",
    "labels.loc[list(essential), \"essential\"] = 1\n",
    "assert labels[\"essential\"].sum() == len(essential)\n",
    "\n",
    "labels.to_csv(\"data/Costanzo_classes.csv\")"
   ]
  },
  {
   "cell_type": "markdown",
   "metadata": {},
   "source": [
    "## Using the GxG data for evaluation\n",
    "We first load the embeddings that we want to evaluate. Note: They cannot contain the Costanzo data!"
   ]
  },
  {
   "cell_type": "code",
   "execution_count": 31,
   "metadata": {},
   "outputs": [],
   "source": [
    "emb = pd.read_parquet(\"data/emb_full_pca.parquet\")\n",
    "emb = emb.set_index(\"gene_id\")"
   ]
  },
  {
   "cell_type": "code",
   "execution_count": 32,
   "metadata": {},
   "outputs": [],
   "source": [
    "from sklearn.model_selection import train_test_split\n",
    "from sklearn.linear_model import LinearRegression\n",
    "from sklearn.metrics import mean_squared_error, r2_score\n",
    "\n",
    "def eval_with_Costanzo_GxG(GxG, emb, subset_size=1000, test_size=0.1):\n",
    "    best = np.inf\n",
    "    best_subset = None\n",
    "    for i in range(100):\n",
    "        subset = np.random.choice(np.arange(GxG.shape[0]), (subset_size,), replace=False)\n",
    "        data = GxG.iloc[subset, subset]\n",
    "        if data.isnull().sum().sum() < best:\n",
    "            best = data.isnull().sum().sum()\n",
    "            best_subset = subset\n",
    "\n",
    "    subset_train, subset_test = train_test_split(best_subset, test_size=test_size)\n",
    "    train_data = GxG.iloc[subset_train, subset_train]\n",
    "    test_data = GxG.iloc[subset_test, subset_test]\n",
    "\n",
    "    def data_to_Xy(data):\n",
    "        data = data.stack(future_stack=True).dropna()\n",
    "        gene_pairs = data.index.to_frame().reset_index(drop=True)\n",
    "        gene_pairs.columns = [\"gene1\", \"gene2\"]\n",
    "        gene_pairs = gene_pairs.assign(interaction=pd.Series(np.array(data)))\n",
    "\n",
    "        gene_pairs_emb = gene_pairs.merge(emb, left_on=\"gene1\", right_on=\"gene_id\").merge(emb, left_on=\"gene2\", right_on=\"gene_id\").drop([\"gene1\", \"gene2\"], axis=1)\n",
    "        y = gene_pairs_emb.interaction\n",
    "        X = gene_pairs_emb.drop([\"interaction\"], axis=1)\n",
    "        return X, y\n",
    "    \n",
    "    train_X, train_y = data_to_Xy(train_data)\n",
    "    test_X, test_y = data_to_Xy(test_data)\n",
    "    \n",
    "    reg = LinearRegression()\n",
    "    reg.fit(train_X, train_y)\n",
    "\n",
    "    pred_y = reg.predict(test_X)\n",
    "    print(\"Costanzo GxG eval MSE:\", mean_squared_error(test_y, pred_y), \"R2:\", r2_score(test_y, pred_y))"
   ]
  },
  {
   "cell_type": "code",
   "execution_count": 33,
   "metadata": {},
   "outputs": [
    {
     "name": "stdout",
     "output_type": "stream",
     "text": [
      "Costanzo GxG eval MSE: 0.0023395187161635088 R2: -0.0002659014295331996\n"
     ]
    }
   ],
   "source": [
    "eval_with_Costanzo_GxG(GxG, emb)"
   ]
  },
  {
   "cell_type": "code",
   "execution_count": null,
   "metadata": {
    "scrolled": true
   },
   "outputs": [],
   "source": [
    "# # Clear columns for ExN Data\n",
    "# Costanzo_ExN_cleared = GxG_data_Costanzo_ExN.drop(GxG_data_Costanzo_ExN.columns[[0, 1, 3, 4]], axis=1)\n",
    "\n",
    "# # Drop the columns without GWEIGHT\n",
    "# Costanzo_ExN_cleared = Costanzo_ExN_cleared.dropna(subset=[\"GWEIGHT\"])\n",
    "\n",
    "# # Drop the GWEIGHT column, since all remaining GWEIGHTS are the same \n",
    "# Costanzo_ExN_cleared = Costanzo_ExN_cleared.drop(columns=[\"GWEIGHT\"])\n",
    "\n",
    "# # Rename gene_id column and set it as index to match other datasets\n",
    "# Costanzo_ExN_cleared = Costanzo_ExN_cleared.rename(columns={\"ORF\": \"gene_id\"}).set_index(\"gene_id\")\n",
    "\n",
    "# # Drop the columns with over 15% nan values\n",
    "# Costanzo_ExN_cleared = Costanzo_ExN_cleared.loc[:, Costanzo_ExN_cleared.isna().sum() <= 1150]\n",
    "\n",
    "# # Convert the string float values to floats\n",
    "# Costanzo_ExN_cleared = Costanzo_ExN_cleared.iloc[:, :].apply(pd.to_numeric, errors=\"coerce\")\n",
    "\n",
    "# # Fill remaining NaN values with the mean of the column (doesnt work since values are strings)\n",
    "# Costanzo_ExN_cleared = Costanzo_ExN_cleared.fillna(Costanzo_ExN_cleared.mean())"
   ]
  },
  {
   "cell_type": "code",
   "execution_count": null,
   "metadata": {},
   "outputs": [],
   "source": [
    "# # Clear columns for NxN Data\n",
    "# Costanzo_NxN_cleared = GxG_data_Costanzo_NxN.drop(GxG_data_Costanzo_NxN.columns[[0, 1, 3, 4]], axis=1)\n",
    "\n",
    "# # Drop the columns without GWEIGHT\n",
    "# Costanzo_NxN_cleared = Costanzo_NxN_cleared.dropna(subset=[\"GWEIGHT\"])\n",
    "\n",
    "# # Drop the GWEIGHT column, since all remaining GWEIGHTS are the same \n",
    "# Costanzo_NxN_cleared = Costanzo_NxN_cleared.drop(columns=[\"GWEIGHT\"])\n",
    "\n",
    "# # Rename gene_id column and set it as index to match other datasets\n",
    "# Costanzo_NxN_cleared = Costanzo_NxN_cleared.rename(columns={\"ORF\": \"gene_id\"}).set_index(\"gene_id\")\n",
    "\n",
    "# # Drop the columns with over around 15% nan values\n",
    "# Costanzo_NxN_cleared = Costanzo_NxN_cleared.loc[:, Costanzo_NxN_cleared.isna().sum() <= 550]\n",
    "\n",
    "# # Convert the string float values to floats\n",
    "# Costanzo_NxN_cleared = Costanzo_NxN_cleared.iloc[:, :].apply(pd.to_numeric, errors=\"coerce\")\n",
    "\n",
    "# # Fill remaining NaN values with the mean of the column (doesnt work since values are strings)\n",
    "# Costanzo_NxN_cleared = Costanzo_NxN_cleared.fillna(Costanzo_NxN_cleared.mean())"
   ]
  }
 ],
 "metadata": {
  "kernelspec": {
   "display_name": "Python 3 (ipykernel)",
   "language": "python",
   "name": "python3"
  },
  "language_info": {
   "codemirror_mode": {
    "name": "ipython",
    "version": 3
   },
   "file_extension": ".py",
   "mimetype": "text/x-python",
   "name": "python",
   "nbconvert_exporter": "python",
   "pygments_lexer": "ipython3",
   "version": "3.12.7"
  }
 },
 "nbformat": 4,
 "nbformat_minor": 2
}
