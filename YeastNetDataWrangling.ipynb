{
 "cells": [
  {
   "cell_type": "code",
   "execution_count": 1,
   "metadata": {},
   "outputs": [],
   "source": [
    "import pandas as pd"
   ]
  },
  {
   "cell_type": "markdown",
   "metadata": {},
   "source": [
    "# Yeast Net"
   ]
  },
  {
   "cell_type": "code",
   "execution_count": 2,
   "metadata": {},
   "outputs": [
    {
     "data": {
      "text/html": [
       "<div>\n",
       "<style scoped>\n",
       "    .dataframe tbody tr th:only-of-type {\n",
       "        vertical-align: middle;\n",
       "    }\n",
       "\n",
       "    .dataframe tbody tr th {\n",
       "        vertical-align: top;\n",
       "    }\n",
       "\n",
       "    .dataframe thead th {\n",
       "        text-align: right;\n",
       "    }\n",
       "</style>\n",
       "<table border=\"1\" class=\"dataframe\">\n",
       "  <thead>\n",
       "    <tr style=\"text-align: right;\">\n",
       "      <th></th>\n",
       "      <th>gene1</th>\n",
       "      <th>gene2</th>\n",
       "      <th>edge_value</th>\n",
       "    </tr>\n",
       "  </thead>\n",
       "  <tbody>\n",
       "    <tr>\n",
       "      <th>0</th>\n",
       "      <td>YBL039C</td>\n",
       "      <td>YGR103W</td>\n",
       "      <td>3.713364</td>\n",
       "    </tr>\n",
       "    <tr>\n",
       "      <th>1</th>\n",
       "      <td>YDL060W</td>\n",
       "      <td>YDR101C</td>\n",
       "      <td>3.701611</td>\n",
       "    </tr>\n",
       "    <tr>\n",
       "      <th>2</th>\n",
       "      <td>YDL060W</td>\n",
       "      <td>YNL248C</td>\n",
       "      <td>3.693862</td>\n",
       "    </tr>\n",
       "    <tr>\n",
       "      <th>3</th>\n",
       "      <td>YDR101C</td>\n",
       "      <td>YOR004W</td>\n",
       "      <td>3.665467</td>\n",
       "    </tr>\n",
       "    <tr>\n",
       "      <th>4</th>\n",
       "      <td>YDL148C</td>\n",
       "      <td>YNL062C</td>\n",
       "      <td>3.660805</td>\n",
       "    </tr>\n",
       "    <tr>\n",
       "      <th>...</th>\n",
       "      <td>...</td>\n",
       "      <td>...</td>\n",
       "      <td>...</td>\n",
       "    </tr>\n",
       "    <tr>\n",
       "      <th>242499</th>\n",
       "      <td>YDL037C</td>\n",
       "      <td>YJL079C</td>\n",
       "      <td>0.811086</td>\n",
       "    </tr>\n",
       "    <tr>\n",
       "      <th>242500</th>\n",
       "      <td>YCL044C</td>\n",
       "      <td>YDL211C</td>\n",
       "      <td>0.811083</td>\n",
       "    </tr>\n",
       "    <tr>\n",
       "      <th>242501</th>\n",
       "      <td>YGR078C</td>\n",
       "      <td>YJR097W</td>\n",
       "      <td>0.811081</td>\n",
       "    </tr>\n",
       "    <tr>\n",
       "      <th>242502</th>\n",
       "      <td>YBR052C</td>\n",
       "      <td>YOR227W</td>\n",
       "      <td>0.811079</td>\n",
       "    </tr>\n",
       "    <tr>\n",
       "      <th>242503</th>\n",
       "      <td>YHR183W</td>\n",
       "      <td>YJL153C</td>\n",
       "      <td>0.811079</td>\n",
       "    </tr>\n",
       "  </tbody>\n",
       "</table>\n",
       "<p>242504 rows × 3 columns</p>\n",
       "</div>"
      ],
      "text/plain": [
       "          gene1    gene2  edge_value\n",
       "0       YBL039C  YGR103W    3.713364\n",
       "1       YDL060W  YDR101C    3.701611\n",
       "2       YDL060W  YNL248C    3.693862\n",
       "3       YDR101C  YOR004W    3.665467\n",
       "4       YDL148C  YNL062C    3.660805\n",
       "...         ...      ...         ...\n",
       "242499  YDL037C  YJL079C    0.811086\n",
       "242500  YCL044C  YDL211C    0.811083\n",
       "242501  YGR078C  YJR097W    0.811081\n",
       "242502  YBR052C  YOR227W    0.811079\n",
       "242503  YHR183W  YJL153C    0.811079\n",
       "\n",
       "[242504 rows x 3 columns]"
      ]
     },
     "execution_count": 2,
     "metadata": {},
     "output_type": "execute_result"
    }
   ],
   "source": [
    "YeastNetdata = pd.read_csv('Data/YeastNet.csv', sep = ',', index_col = 0)\n",
    "YeastNetdata"
   ]
  },
  {
   "cell_type": "code",
   "execution_count": 3,
   "metadata": {},
   "outputs": [],
   "source": [
    "YeastNetdata.to_csv(\"Data/YeastNet.edg\", sep=\"\\t\", columns=[\"gene1\", \"gene2\", \"edge_value\"], header=False, index=False)"
   ]
  },
  {
   "cell_type": "code",
   "execution_count": 4,
   "metadata": {},
   "outputs": [
    {
     "name": "stdout",
     "output_type": "stream",
     "text": [
      "/Library/Frameworks/Python.framework/Versions/3.12/lib/python3.12/site-packages/pecanpy/cli.py:302: UserWarning: When p = 1 and q = 1, it is highly recommended to use PreCompFirstOrder over SparseOTF (current selection). The runtime could be improved greatly with low memory usage.\n",
      "  check_mode(g, args)\n",
      "Took 00:00:00.35 to load Graph\n",
      "Took 00:00:00.00 to pre-compute transition probabilities\n",
      "Took 00:00:04.02 to generate walks\n",
      "Took 00:00:05.40 to train embeddings\n"
     ]
    }
   ],
   "source": [
    "!pecanpy --input \"Data/YeastNet.edg\" --output \"Data/YeastNetEmbeddings.npz\" --mode SparseOTF --weighted"
   ]
  }
 ],
 "metadata": {
  "kernelspec": {
   "display_name": "Python 3",
   "language": "python",
   "name": "python3"
  },
  "language_info": {
   "codemirror_mode": {
    "name": "ipython",
    "version": 3
   },
   "file_extension": ".py",
   "mimetype": "text/x-python",
   "name": "python",
   "nbconvert_exporter": "python",
   "pygments_lexer": "ipython3",
   "version": "3.12.3"
  }
 },
 "nbformat": 4,
 "nbformat_minor": 2
}
